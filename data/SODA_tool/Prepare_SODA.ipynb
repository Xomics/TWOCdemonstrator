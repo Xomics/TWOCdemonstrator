{
 "cells": [
  {
   "cell_type": "markdown",
   "id": "34298b3d",
   "metadata": {},
   "source": [
    "# Prepare ISA files for SODAtool"
   ]
  },
  {
   "cell_type": "code",
   "execution_count": null,
   "id": "c69b4af4",
   "metadata": {},
   "outputs": [],
   "source": [
    "import sys\n",
    "import os\n",
    "import pandas as pd"
   ]
  },
  {
   "cell_type": "code",
   "execution_count": null,
   "id": "0cfcca85",
   "metadata": {},
   "outputs": [],
   "source": [
    "s_study_path = \"../../data/Su_2020_FAIR/s_study.txt\"\n",
    "s_study_df = pd.read_csv(s_study_path, delimiter = '\\t', index_col=19)\n",
    "#s_study_df"
   ]
  },
  {
   "cell_type": "markdown",
   "id": "d2523f1b",
   "metadata": {},
   "source": [
    "## Metabolomics"
   ]
  },
  {
   "cell_type": "code",
   "execution_count": null,
   "id": "632b70fa",
   "metadata": {},
   "outputs": [],
   "source": [
    "a_metabolomics_path = \"../../data/Su_2020_FAIR/a_assay_metabolomics.txt\"\n",
    "a_mtblmcs_df = pd.read_csv(a_metabolomics_path, delimiter = '\\t', index_col=0)\n",
    "#a_mtblmcs_df"
   ]
  },
  {
   "cell_type": "markdown",
   "id": "80dc7965",
   "metadata": {},
   "source": [
    "### Find intersection of samples + concatenate Study and Assay file"
   ]
  },
  {
   "cell_type": "code",
   "execution_count": null,
   "id": "2669c740",
   "metadata": {
    "scrolled": true
   },
   "outputs": [],
   "source": [
    "s_study_df_mtblmcs = s_study_df[s_study_df.index.isin(a_mtblmcs_df.index)]\n",
    "#s_study_df_mtblmcs\n",
    "result = pd.concat([s_study_df_mtblmcs, a_mtblmcs_df], axis=1).reindex(a_mtblmcs_df.index)\n",
    "result"
   ]
  },
  {
   "cell_type": "markdown",
   "id": "74477fbd",
   "metadata": {},
   "source": [
    "## Find intersection of samples in measurement data file"
   ]
  },
  {
   "cell_type": "code",
   "execution_count": null,
   "id": "e0d96716",
   "metadata": {
    "scrolled": true
   },
   "outputs": [],
   "source": [
    "metabolomics_data_path = \"../../data/Su_2020_FAIR/metabolomics/metabolomics_Su_2020_feature-data.csv\"\n",
    "mtblmcs_data_df = pd.read_csv(metabolomics_data_path, index_col=0).transpose()\n",
    "# Intersect samples\n",
    "mtblmcs_data_df = mtblmcs_data_df[mtblmcs_data_df.index.isin(a_mtblmcs_df.index)]\n",
    "mtblmcs_data_df.reindex(a_mtblmcs_df.index)"
   ]
  },
  {
   "cell_type": "markdown",
   "id": "9078fd7a",
   "metadata": {},
   "source": [
    "### Save file to csv"
   ]
  },
  {
   "cell_type": "code",
   "execution_count": null,
   "id": "8f0f627c",
   "metadata": {},
   "outputs": [],
   "source": [
    "mtblmcs_data_df.to_csv('metabolomics_Su_2020_feature-data_SODA.csv')\n",
    "a_mtblmcs_df.to_csv('study_assay_metabolomics_SODA.csv')"
   ]
  }
 ],
 "metadata": {
  "kernelspec": {
   "display_name": "Python 3 (ipykernel)",
   "language": "python",
   "name": "python3"
  },
  "language_info": {
   "codemirror_mode": {
    "name": "ipython",
    "version": 3
   },
   "file_extension": ".py",
   "mimetype": "text/x-python",
   "name": "python",
   "nbconvert_exporter": "python",
   "pygments_lexer": "ipython3",
   "version": "3.10.8"
  }
 },
 "nbformat": 4,
 "nbformat_minor": 5
}
