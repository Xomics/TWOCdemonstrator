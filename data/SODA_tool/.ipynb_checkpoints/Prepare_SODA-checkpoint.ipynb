{
 "cells": [
  {
   "cell_type": "markdown",
   "id": "ba873628",
   "metadata": {},
   "source": [
    "# Prepare ISA files for SODAtool"
   ]
  },
  {
   "cell_type": "code",
   "execution_count": null,
   "id": "afd153ae",
   "metadata": {},
   "outputs": [],
   "source": [
    "import sys\n",
    "import os\n",
    "import pandas as pd"
   ]
  },
  {
   "cell_type": "code",
   "execution_count": null,
   "id": "93ef6dde",
   "metadata": {},
   "outputs": [],
   "source": [
    "s_study_path = \"../../data/Su_2020_FAIR/s_study.txt\"\n",
    "s_study_df = pd.read_csv(s_study_path, delimiter = '\\t', index_col=19)\n",
    "s_study_df"
   ]
  },
  {
   "cell_type": "code",
   "execution_count": null,
   "id": "634be6e4",
   "metadata": {},
   "outputs": [],
   "source": [
    "a_metabolomics_path = \"../../data/Su_2020_FAIR/a_assay_metabolomics.txt\"\n",
    "df_a_mtblmcs = pd.read_csv(a_metabolomics_path, delimiter = '\\t', index_col=0)\n",
    "df_a_mtblmcs"
   ]
  },
  {
   "cell_type": "code",
   "execution_count": null,
   "id": "9cbd14dc",
   "metadata": {},
   "outputs": [],
   "source": [
    "df = df[df.index.isin(df1.index)]"
   ]
  }
 ],
 "metadata": {
  "kernelspec": {
   "display_name": "Python 3 (ipykernel)",
   "language": "python",
   "name": "python3"
  },
  "language_info": {
   "codemirror_mode": {
    "name": "ipython",
    "version": 3
   },
   "file_extension": ".py",
   "mimetype": "text/x-python",
   "name": "python",
   "nbconvert_exporter": "python",
   "pygments_lexer": "ipython3",
   "version": "3.10.8"
  }
 },
 "nbformat": 4,
 "nbformat_minor": 5
}
