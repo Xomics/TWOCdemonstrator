{
 "cells": [
  {
   "cell_type": "markdown",
   "id": "ca658694",
   "metadata": {},
   "source": [
    "# Create Phenopackets for TWOC demonstrator\n",
    "\n",
    "Read input data from `TWOC-MultiOmics-Studies-COVID_300Samples.xlsx`. Requires `pandas` and `openpyxl`."
   ]
  },
  {
   "cell_type": "code",
   "execution_count": 32,
   "id": "30d73849",
   "metadata": {},
   "outputs": [],
   "source": [
    "phenotype_data_file = \"../data/TWOC-MultiOmics-Studies-COVID_300Samples.xlsx\"\n",
    "biosample_data_file = \"../data/IDs_Individuals-vs-Samples_incl-all-CONTROLS.xlsx\""
   ]
  },
  {
   "cell_type": "code",
   "execution_count": 33,
   "id": "7a4b78df",
   "metadata": {},
   "outputs": [
    {
     "data": {
      "text/html": [
       "<div>\n",
       "<style scoped>\n",
       "    .dataframe tbody tr th:only-of-type {\n",
       "        vertical-align: middle;\n",
       "    }\n",
       "\n",
       "    .dataframe tbody tr th {\n",
       "        vertical-align: top;\n",
       "    }\n",
       "\n",
       "    .dataframe thead th {\n",
       "        text-align: right;\n",
       "    }\n",
       "</style>\n",
       "<table border=\"1\" class=\"dataframe\">\n",
       "  <thead>\n",
       "    <tr style=\"text-align: right;\">\n",
       "      <th></th>\n",
       "      <th>Study Subject ID</th>\n",
       "      <th>Sample ID</th>\n",
       "      <th>BD Time-Point</th>\n",
       "      <th>Transcript.</th>\n",
       "      <th>Metabol.</th>\n",
       "      <th>Prote.</th>\n",
       "      <th>Sex</th>\n",
       "      <th>Age</th>\n",
       "      <th>Unnamed: 8</th>\n",
       "      <th>* ref = see earlier Master Table ; ** T2 Transcriptomics samples are available but were not included in our FAIRification process</th>\n",
       "    </tr>\n",
       "  </thead>\n",
       "  <tbody>\n",
       "    <tr>\n",
       "      <th>0</th>\n",
       "      <td>INCOV001</td>\n",
       "      <td>INCOV001-BL</td>\n",
       "      <td>T1</td>\n",
       "      <td>Y</td>\n",
       "      <td>Y</td>\n",
       "      <td>Y</td>\n",
       "      <td>ref</td>\n",
       "      <td>ref</td>\n",
       "      <td>NaN</td>\n",
       "      <td>NaN</td>\n",
       "    </tr>\n",
       "    <tr>\n",
       "      <th>1</th>\n",
       "      <td>INCOV001</td>\n",
       "      <td>INCOV001-AC</td>\n",
       "      <td>T2</td>\n",
       "      <td>N</td>\n",
       "      <td>Y</td>\n",
       "      <td>Y</td>\n",
       "      <td>ref</td>\n",
       "      <td>ref</td>\n",
       "      <td>NaN</td>\n",
       "      <td>NaN</td>\n",
       "    </tr>\n",
       "    <tr>\n",
       "      <th>2</th>\n",
       "      <td>INCOV002</td>\n",
       "      <td>INCOV002-BL</td>\n",
       "      <td>T1</td>\n",
       "      <td>Y</td>\n",
       "      <td>Y</td>\n",
       "      <td>Y</td>\n",
       "      <td>ref</td>\n",
       "      <td>ref</td>\n",
       "      <td>NaN</td>\n",
       "      <td>NaN</td>\n",
       "    </tr>\n",
       "    <tr>\n",
       "      <th>3</th>\n",
       "      <td>INCOV002</td>\n",
       "      <td>INCOV002-AC</td>\n",
       "      <td>T2</td>\n",
       "      <td>N</td>\n",
       "      <td>Y</td>\n",
       "      <td>Y</td>\n",
       "      <td>ref</td>\n",
       "      <td>ref</td>\n",
       "      <td>NaN</td>\n",
       "      <td>NaN</td>\n",
       "    </tr>\n",
       "    <tr>\n",
       "      <th>4</th>\n",
       "      <td>INCOV003</td>\n",
       "      <td>INCOV003-BL</td>\n",
       "      <td>T1</td>\n",
       "      <td>Y</td>\n",
       "      <td>Y</td>\n",
       "      <td>Y</td>\n",
       "      <td>ref</td>\n",
       "      <td>ref</td>\n",
       "      <td>NaN</td>\n",
       "      <td>NaN</td>\n",
       "    </tr>\n",
       "  </tbody>\n",
       "</table>\n",
       "</div>"
      ],
      "text/plain": [
       "  Study Subject ID    Sample ID BD Time-Point Transcript. Metabol. Prote.  \\\n",
       "0         INCOV001  INCOV001-BL            T1           Y        Y      Y   \n",
       "1         INCOV001  INCOV001-AC            T2           N        Y      Y   \n",
       "2         INCOV002  INCOV002-BL            T1           Y        Y      Y   \n",
       "3         INCOV002  INCOV002-AC            T2           N        Y      Y   \n",
       "4         INCOV003  INCOV003-BL            T1           Y        Y      Y   \n",
       "\n",
       "   Sex  Age Unnamed: 8  \\\n",
       "0  ref  ref        NaN   \n",
       "1  ref  ref        NaN   \n",
       "2  ref  ref        NaN   \n",
       "3  ref  ref        NaN   \n",
       "4  ref  ref        NaN   \n",
       "\n",
       "   * ref = see earlier Master Table ; ** T2 Transcriptomics samples are available but were not included in our FAIRification process  \n",
       "0                                                NaN                                                                                  \n",
       "1                                                NaN                                                                                  \n",
       "2                                                NaN                                                                                  \n",
       "3                                                NaN                                                                                  \n",
       "4                                                NaN                                                                                  "
      ]
     },
     "execution_count": 33,
     "metadata": {},
     "output_type": "execute_result"
    }
   ],
   "source": [
    "import pandas as pd\n",
    "phenotype_data = pd.read_excel(\n",
    "    phenotype_data_file, \n",
    "    sheet_name = 0,  # first sheet\n",
    "    header = [0],    # use 2nd row as header\n",
    "    skiprows = 1)    # skip first row with ontology terms\n",
    "#phenotype_data.head()\n",
    "\n",
    "biosample_data = pd.read_excel(\n",
    "    biosample_data_file,\n",
    "    sheet_name = 0,  # first sheet\n",
    "    header = [0],\n",
    "    skiprows = None)\n",
    "biosample_data.head()\n"
   ]
  },
  {
   "cell_type": "markdown",
   "id": "f34eaaed",
   "metadata": {},
   "source": [
    "Get ontology terms from first row."
   ]
  },
  {
   "cell_type": "code",
   "execution_count": 34,
   "id": "e9c66a01",
   "metadata": {},
   "outputs": [
    {
     "data": {
      "text/plain": [
       "{'Study Subject': 'http://purl.obolibrary.org/obo/NCIT_C41189',\n",
       " 'Patient': 'http://purl.obolibrary.org/obo/NCIT_C16960',\n",
       " 'Symptoms Consistent with COVID-19': 'http://purl.obolibrary.org/obo/NCIT_C173069',\n",
       " 'COVID-19': 'http://purl.obolibrary.org/obo/MONDO_0100096',\n",
       " 'Sex': 'http://purl.obolibrary.org/obo/NCIT_C28421',\n",
       " 'Age-Years': 'http://purl.obolibrary.org/obo/NCIT_C37908',\n",
       " 'Patient Status': 'http://purl.obolibrary.org/obo/NCIT_C166244',\n",
       " 'ICU': 'http://purl.obolibrary.org/obo/NCIT_C53511',\n",
       " 'Study DOI': 'http://edamontology.org/data_1188',\n",
       " 'Ethnicity': 'http://purl.obolibrary.org/obo/GECKO_0000061',\n",
       " 'BMI': 'http://purl.obolibrary.org/obo/ExO_0000105',\n",
       " 'Smoking': 'http://purl.obolibrary.org/obo/NCIT_C154329',\n",
       " 'COVID-19 Disease Severity (WHO Ordinal) Scale': 'http://purl.obolibrary.org/obo/NCIT_C178899',\n",
       " 'Charlson Comorbidity Index': 'http://purl.obolibrary.org/obo/NCIT_C176422',\n",
       " 'APACHE II Score': 'http://purl.obolibrary.org/obo/NCIT_C121113',\n",
       " 'Mechanical Ventilation': 'http://purl.obolibrary.org/obo/NCIT_C70909',\n",
       " 'Asthma': 'http://purl.obolibrary.org/obo/NCIT_C28397',\n",
       " 'COPD': 'http://purl.obolibrary.org/obo/HP_0006510',\n",
       " 'DM': 'http://purl.obolibrary.org/obo/NCIT_C2985',\n",
       " 'CRP (mg/L)': 'http://purl.obolibrary.org/obo/NCIT_C64548',\n",
       " 'Ferritin (ng/mL)': 'http://purl.obolibrary.org/obo/NCIT_C74737',\n",
       " 'IL6': 'http://purl.obolibrary.org/obo/NCIT_C74834'}"
      ]
     },
     "execution_count": 34,
     "metadata": {},
     "output_type": "execute_result"
    }
   ],
   "source": [
    "column_info = pd.read_excel(\n",
    "    phenotype_data_file,\n",
    "    sheet_name = 0,\n",
    "    header = [0], \n",
    "    nrows = 1     # first row only\n",
    ").iloc[0,]        # convert to Series\n",
    "# create dict\n",
    "ontology_terms = {v: k for k, v in column_info.iteritems()}\n",
    "ontology_terms"
   ]
  },
  {
   "cell_type": "markdown",
   "id": "ad833336",
   "metadata": {},
   "source": [
    "Define functions to convert rows to Phenopackets Individuals"
   ]
  },
  {
   "cell_type": "code",
   "execution_count": 35,
   "id": "305ab757",
   "metadata": {},
   "outputs": [],
   "source": [
    "from math import nan\n",
    "import numpy as np\n",
    "import phenopackets \n",
    "from datetime import date\n",
    "from calendar import timegm\n",
    "from google.protobuf.timestamp_pb2 import Timestamp\n",
    "from google.protobuf.json_format import Parse, MessageToJson\n",
    "import json\n",
    "\n",
    "def get_timestamp(date_str):\n",
    "    \"\"\"Create Timestamp in seconds since Unix epoch\n",
    "    from a date string, e.g, '1970-01-01'\n",
    "    \"\"\"\n",
    "    y, m, d = tuple([int(i) for i in date_str.split(\"-\")])\n",
    "    timestamp = Timestamp(seconds = timegm(date(y, m, d).timetuple()))\n",
    "    return timestamp\n",
    "\n",
    "\n",
    "def get_age(years):\n",
    "    \"\"\"Create Age object from age in years\n",
    "    \"\"\"\n",
    "    if not np.isnan(years):\n",
    "        age = phenopackets.TimeElement(\n",
    "            age = phenopackets.Age(\n",
    "                iso8601duration = \"P{0}Y\".format(round(years))))\n",
    "    else:\n",
    "        age = None\n",
    "    return age\n",
    "\n",
    "\n",
    "def get_sex(sex):\n",
    "    \"\"\"Convert values for column 'Sex' to Phenopackets Sex\n",
    "    https://phenopacket-schema.readthedocs.io/en/latest/sex.html#rstsex\n",
    "    \"\"\"\n",
    "    if isinstance(sex, str):\n",
    "        formatted_sex = sex.upper()\n",
    "    elif np.isnan(sex):\n",
    "        formatted_sex = \"UNKNOWN_SEX\"\n",
    "    else:\n",
    "        raise TypeError(\"Unknown input type\", type(sex), sex)\n",
    "    return formatted_sex\n",
    "\n",
    "\n",
    "def create_individual(row):\n",
    "    \"\"\"Create Phenopackets Individual from row.\n",
    "    Also see phenopackets schema documentation\n",
    "    https://phenopacket-schema.readthedocs.io/en/latest/individual.html#rstindividual\n",
    "    \"\"\"\n",
    "    individual = phenopackets.Individual(\n",
    "        id = row[\"Study Subject\"],\n",
    "        time_at_last_encounter = get_age(row[\"Age-Years\"]), \n",
    "        #vital_status = phenopackets.VitalStatus(status = \"ALIVE\"),\n",
    "        sex = get_sex(row[\"Sex\"]), # phenotypic sex\n",
    "        #karyotypic_sex = phenopackets.KaryotypicSex(),\n",
    "        taxonomy = phenopackets.OntologyClass(\n",
    "            id = \"NCBITaxon:9606\", label = \"Homo sapiens\"))\n",
    "    return individual\n",
    "\n",
    "def create_biosamples(row):\n",
    "    \"\"\"Create biosamples from rows from biosample vs individuals xls file.\n",
    "    \"\"\"\n",
    "    biosample_info = phenopackets.Biosample(\n",
    "        id = str(row[\"Sample ID\"]),\n",
    "        individual_id = row[\"Study Subject ID\"])\n",
    "        #time_of_collection = row[\"BD Time-Point\"])\n",
    "    return biosample_info\n",
    "\n",
    "def create_phenotypic_features(row):\n",
    "    \"\"\"Create phenotypic features from rows from xls file\n",
    "    \"\"\"\n",
    "    phenotypic_features = []\n",
    "    for i in range(len(row)-6):\n",
    "        row_name = row.keys()[i+6]\n",
    "        onto = (ontology_terms[row_name].split(\"/\"))[-1]\n",
    "        if str(row[row_name]) != 'nan':\n",
    "            id = str(row[row_name])\n",
    "        else:\n",
    "            id = None\n",
    "        #print(row_name, row[row_name], id, onto)\n",
    "        phenotypic_feature = phenopackets.PhenotypicFeature(\n",
    "            type = phenopackets.OntologyClass(\n",
    "                id = id, label = onto)\n",
    "            )\n",
    "        phenotypic_features.append(phenotypic_feature)\n",
    "    return phenotypic_features\n",
    "            "
   ]
  },
  {
   "cell_type": "markdown",
   "id": "98024c89",
   "metadata": {},
   "source": [
    "Apply functions defined above to data frame with phenotype information"
   ]
  },
  {
   "cell_type": "code",
   "execution_count": 36,
   "id": "81f2b933",
   "metadata": {},
   "outputs": [],
   "source": [
    "all_individuals = phenotype_data.apply(create_individual, axis = 1)\n",
    "\n",
    "biosamples = biosample_data.apply(create_biosamples, axis = 1)\n",
    "#type(all_individuals)\n",
    "\n",
    "#type(biosamples[0])\n",
    "phenotypics = phenotype_data.apply(create_phenotypic_features, axis = 1)\n",
    "#phenotypics[0]"
   ]
  },
  {
   "cell_type": "markdown",
   "id": "9e2ea5e8",
   "metadata": {},
   "source": [
    "Next steps: \n",
    "- add Individual to Phenopacket, see https://phenopacket-schema.readthedocs.io/en/latest/phenopacket.html\n",
    "- add Biosamples, PhenotypcFeatures, etc. (information from remaining columns)\n",
    "- reuse existing building blocks where possible\n",
    "- use suitable ontology terms for labels and values (is possible)\n",
    "- save as json"
   ]
  },
  {
   "cell_type": "markdown",
   "id": "18875b12",
   "metadata": {},
   "source": [
    "Create Phenopackets objects \n",
    "Add individuals to Phenopackets objects"
   ]
  },
  {
   "cell_type": "code",
   "execution_count": 37,
   "id": "2bdb1536",
   "metadata": {},
   "outputs": [],
   "source": [
    "def create_phenopackets(individuals, biosampless, phenotypics):\n",
    "    pheno_pkts = []\n",
    "    for i, indiv in enumerate(individuals):\n",
    "        for biosample in biosampless:\n",
    "            if indiv.id == biosample.id:\n",
    "                #print(indiv.id, biosample.id)\n",
    "                new_pheno = phenopackets.Phenopacket(\n",
    "                    id = indiv.id,\n",
    "                    subject = indiv,\n",
    "                    phenotypic_features = phenotypics[i])\n",
    "                new_pheno.biosamples.extend([biosample])\n",
    "                pheno_pkts.append(new_pheno)\n",
    "    return pheno_pkts\n",
    "\n"
   ]
  },
  {
   "cell_type": "markdown",
   "id": "37d36226",
   "metadata": {},
   "source": [
    "Convert Phenopackets objects to JSON or JSON-LD OR turtle RDF format"
   ]
  },
  {
   "cell_type": "code",
   "execution_count": 40,
   "id": "c5a4cfe3",
   "metadata": {},
   "outputs": [
    {
     "data": {
      "text/plain": [
       "\"\\n\\nprint(pkt)\\ndata = {[]}\\n\\nfor pkt in pkts:\\n        data['records'].append(json.loads(line))\\n        \\nprint(json.dumps(data))\""
      ]
     },
     "execution_count": 40,
     "metadata": {},
     "output_type": "execute_result"
    }
   ],
   "source": [
    "import rdflib\n",
    "pheno_pkts = create_phenopackets(all_individuals, biosamples, phenotypics)\n",
    "#pheno_pkts[0]\n",
    "with open('../data/phenopackets_TWOC_json.json', 'w') as jsfile:\n",
    "    pkts = []\n",
    "    for pheno_pkt in pheno_pkts:\n",
    "        pkt = MessageToJson(pheno_pkt)\n",
    "        pkts.append(pkt)\n",
    "    jsfile.write(json.dumps(pkts))\n",
    "\"\"\"\n",
    "\n",
    "print(pkt)\n",
    "data = {[]}\n",
    "\n",
    "for pkt in pkts:\n",
    "        data['records'].append(json.loads(line))\n",
    "        \n",
    "print(json.dumps(data))\"\"\""
   ]
  }
 ],
 "metadata": {
  "kernelspec": {
   "display_name": "Python 3.9.12 ('py39phenopackets')",
   "language": "python",
   "name": "python3"
  },
  "language_info": {
   "codemirror_mode": {
    "name": "ipython",
    "version": 3
   },
   "file_extension": ".py",
   "mimetype": "text/x-python",
   "name": "python",
   "nbconvert_exporter": "python",
   "pygments_lexer": "ipython3",
   "version": "3.9.12"
  },
  "vscode": {
   "interpreter": {
    "hash": "5bb3034b61e43fd74e9528f500f4590e9d9170adf2d71ce93b7c2248aa48ea08"
   }
  }
 },
 "nbformat": 4,
 "nbformat_minor": 5
}
