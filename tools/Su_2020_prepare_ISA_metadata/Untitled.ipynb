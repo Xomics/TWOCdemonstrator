{
 "cells": [
  {
   "cell_type": "code",
   "execution_count": null,
   "id": "caa8e7fb",
   "metadata": {},
   "outputs": [],
   "source": [
    "import os\n",
    "raw_datafile = DataFile(filename= \"blank\", label = \"Raw Spectral Data File\")\n",
    "print(str(raw_datafile))"
   ]
  },
  {
   "cell_type": "code",
   "execution_count": null,
   "id": "8eaf9f28",
   "metadata": {},
   "outputs": [],
   "source": []
  }
 ],
 "metadata": {
  "kernelspec": {
   "display_name": "Python 3 (ipykernel)",
   "language": "python",
   "name": "python3"
  },
  "language_info": {
   "codemirror_mode": {
    "name": "ipython",
    "version": 3
   },
   "file_extension": ".py",
   "mimetype": "text/x-python",
   "name": "python",
   "nbconvert_exporter": "python",
   "pygments_lexer": "ipython3",
   "version": "3.11.4"
  }
 },
 "nbformat": 4,
 "nbformat_minor": 5
}
