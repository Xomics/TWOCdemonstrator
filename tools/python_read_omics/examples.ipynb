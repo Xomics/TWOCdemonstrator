{
 "cells": [
  {
   "cell_type": "markdown",
   "metadata": {},
   "source": [
    "# Demonstrate use of functions.py\n",
    "\n",
    "Note: the conda environment py36isa can be created as described here: https://gist.github.com/niehues/2e968e222489692f281d8361045766b0"
   ]
  },
  {
   "cell_type": "code",
   "execution_count": 1,
   "metadata": {},
   "outputs": [],
   "source": [
    "# import functions from functions.py\n",
    "import sys\n",
    "sys.path.append(\".\")\n",
    "from functions import *"
   ]
  },
  {
   "cell_type": "markdown",
   "metadata": {},
   "source": [
    "## Read metabolomics data file"
   ]
  },
  {
   "cell_type": "code",
   "execution_count": 4,
   "metadata": {},
   "outputs": [
    {
     "name": "stdout",
     "output_type": "stream",
     "text": [
      "(496, 387)\n"
     ]
    },
    {
     "data": {
      "text/html": [
       "<div>\n",
       "<style scoped>\n",
       "    .dataframe tbody tr th:only-of-type {\n",
       "        vertical-align: middle;\n",
       "    }\n",
       "\n",
       "    .dataframe tbody tr th {\n",
       "        vertical-align: top;\n",
       "    }\n",
       "\n",
       "    .dataframe thead th {\n",
       "        text-align: right;\n",
       "    }\n",
       "</style>\n",
       "<table border=\"1\" class=\"dataframe\">\n",
       "  <thead>\n",
       "    <tr style=\"text-align: right;\">\n",
       "      <th></th>\n",
       "      <th>1004596</th>\n",
       "      <th>1008097</th>\n",
       "      <th>1008631</th>\n",
       "      <th>1012545</th>\n",
       "      <th>1022407</th>\n",
       "    </tr>\n",
       "    <tr>\n",
       "      <th>feature.name</th>\n",
       "      <th></th>\n",
       "      <th></th>\n",
       "      <th></th>\n",
       "      <th></th>\n",
       "      <th></th>\n",
       "    </tr>\n",
       "  </thead>\n",
       "  <tbody>\n",
       "    <tr>\n",
       "      <th>S-1-pyrroline-5-carboxylate</th>\n",
       "      <td>0.780685</td>\n",
       "      <td>NaN</td>\n",
       "      <td>1.093995</td>\n",
       "      <td>0.603869</td>\n",
       "      <td>0.699325</td>\n",
       "    </tr>\n",
       "    <tr>\n",
       "      <th>spermidine</th>\n",
       "      <td>1.914103</td>\n",
       "      <td>0.722351</td>\n",
       "      <td>0.410542</td>\n",
       "      <td>0.977809</td>\n",
       "      <td>1.087672</td>\n",
       "    </tr>\n",
       "    <tr>\n",
       "      <th>1-methylnicotinamide</th>\n",
       "      <td>0.874071</td>\n",
       "      <td>1.302361</td>\n",
       "      <td>0.628660</td>\n",
       "      <td>2.513620</td>\n",
       "      <td>1.532138</td>\n",
       "    </tr>\n",
       "    <tr>\n",
       "      <th>12,13-DiHOME</th>\n",
       "      <td>1.626477</td>\n",
       "      <td>0.346423</td>\n",
       "      <td>0.884411</td>\n",
       "      <td>2.872909</td>\n",
       "      <td>0.571260</td>\n",
       "    </tr>\n",
       "  </tbody>\n",
       "</table>\n",
       "</div>"
      ],
      "text/plain": [
       "                              1004596   1008097   1008631   1012545   1022407\n",
       "feature.name                                                                 \n",
       "S-1-pyrroline-5-carboxylate  0.780685       NaN  1.093995  0.603869  0.699325\n",
       "spermidine                   1.914103  0.722351  0.410542  0.977809  1.087672\n",
       "1-methylnicotinamide         0.874071  1.302361  0.628660  2.513620  1.532138\n",
       "12,13-DiHOME                 1.626477  0.346423  0.884411  2.872909  0.571260"
      ]
     },
     "execution_count": 4,
     "metadata": {},
     "output_type": "execute_result"
    }
   ],
   "source": [
    "metabolomics_feature_data = \"../../data/Su_2020_FAIR/metabolomics/metabolomics_Su_2020_feature-data.csv\"\n",
    "df = read_omics_data(metabolomics_feature_data)\n",
    "print(df.shape)\n",
    "df.iloc[:4,:5]"
   ]
  },
  {
   "cell_type": "code",
   "execution_count": 3,
   "metadata": {},
   "outputs": [
    {
     "data": {
      "text/html": [
       "<div>\n",
       "<style scoped>\n",
       "    .dataframe tbody tr th:only-of-type {\n",
       "        vertical-align: middle;\n",
       "    }\n",
       "\n",
       "    .dataframe tbody tr th {\n",
       "        vertical-align: top;\n",
       "    }\n",
       "\n",
       "    .dataframe thead th {\n",
       "        text-align: right;\n",
       "    }\n",
       "</style>\n",
       "<table border=\"1\" class=\"dataframe\">\n",
       "  <thead>\n",
       "    <tr style=\"text-align: right;\">\n",
       "      <th></th>\n",
       "      <th>1004596</th>\n",
       "      <th>1008097</th>\n",
       "      <th>1008631</th>\n",
       "      <th>1012545</th>\n",
       "      <th>1022407</th>\n",
       "    </tr>\n",
       "    <tr>\n",
       "      <th>feature.name</th>\n",
       "      <th></th>\n",
       "      <th></th>\n",
       "      <th></th>\n",
       "      <th></th>\n",
       "      <th></th>\n",
       "    </tr>\n",
       "  </thead>\n",
       "  <tbody>\n",
       "    <tr>\n",
       "      <th>S-1-pyrroline-5-carboxylate</th>\n",
       "      <td>0.780685</td>\n",
       "      <td>NaN</td>\n",
       "      <td>1.093995</td>\n",
       "      <td>0.603869</td>\n",
       "      <td>0.699325</td>\n",
       "    </tr>\n",
       "    <tr>\n",
       "      <th>spermidine</th>\n",
       "      <td>1.914103</td>\n",
       "      <td>0.722351</td>\n",
       "      <td>0.410542</td>\n",
       "      <td>0.977809</td>\n",
       "      <td>1.087672</td>\n",
       "    </tr>\n",
       "    <tr>\n",
       "      <th>1-methylnicotinamide</th>\n",
       "      <td>0.874071</td>\n",
       "      <td>1.302361</td>\n",
       "      <td>0.628660</td>\n",
       "      <td>2.513620</td>\n",
       "      <td>1.532138</td>\n",
       "    </tr>\n",
       "    <tr>\n",
       "      <th>12,13-DiHOME</th>\n",
       "      <td>1.626477</td>\n",
       "      <td>0.346423</td>\n",
       "      <td>0.884411</td>\n",
       "      <td>2.872909</td>\n",
       "      <td>0.571260</td>\n",
       "    </tr>\n",
       "  </tbody>\n",
       "</table>\n",
       "</div>"
      ],
      "text/plain": [
       "                              1004596   1008097   1008631   1012545   1022407\n",
       "feature.name                                                                 \n",
       "S-1-pyrroline-5-carboxylate  0.780685       NaN  1.093995  0.603869  0.699325\n",
       "spermidine                   1.914103  0.722351  0.410542  0.977809  1.087672\n",
       "1-methylnicotinamide         0.874071  1.302361  0.628660  2.513620  1.532138\n",
       "12,13-DiHOME                 1.626477  0.346423  0.884411  2.872909  0.571260"
      ]
     },
     "execution_count": 3,
     "metadata": {},
     "output_type": "execute_result"
    }
   ],
   "source": []
  }
 ],
 "metadata": {
  "kernelspec": {
   "display_name": "Python 3.6.13 ('py36isa')",
   "language": "python",
   "name": "python3"
  },
  "language_info": {
   "codemirror_mode": {
    "name": "ipython",
    "version": 3
   },
   "file_extension": ".py",
   "mimetype": "text/x-python",
   "name": "python",
   "nbconvert_exporter": "python",
   "pygments_lexer": "ipython3",
   "version": "3.6.13"
  },
  "orig_nbformat": 4,
  "vscode": {
   "interpreter": {
    "hash": "d5cfdefd96936870708142e6748a6b827f19d6327e9ffbd86cfc86dc3c28b856"
   }
  }
 },
 "nbformat": 4,
 "nbformat_minor": 2
}
